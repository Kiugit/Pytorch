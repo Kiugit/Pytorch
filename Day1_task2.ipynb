{
 "cells": [
  {
   "cell_type": "markdown",
   "metadata": {},
   "source": [
    "응용과제:\n",
    "\n",
    "2. 사과/파인애플/바나나의 대표 이미지를 하나 선택한 후, 평균 해쉬 검출법을 사용하여 일치율을 나타내는 이미지들을 확인해 봅시다."
   ]
  },
  {
   "cell_type": "code",
   "execution_count": 1,
   "metadata": {},
   "outputs": [],
   "source": [
    "# 2번\n",
    "import numpy as np\n",
    "import cv2\n",
    "fruits = np.load(\"C:\\\\Users\\\\user\\\\Desktop\\\\빅데이터 8기 김영규\\\\ML\\\\ML_week2\\\\Day7\\\\fruits_300.npy\")"
   ]
  },
  {
   "cell_type": "code",
   "execution_count": null,
   "metadata": {},
   "outputs": [],
   "source": []
  }
 ],
 "metadata": {
  "kernelspec": {
   "display_name": "DL",
   "language": "python",
   "name": "python3"
  },
  "language_info": {
   "codemirror_mode": {
    "name": "ipython",
    "version": 3
   },
   "file_extension": ".py",
   "mimetype": "text/x-python",
   "name": "python",
   "nbconvert_exporter": "python",
   "pygments_lexer": "ipython3",
   "version": "3.12.3"
  }
 },
 "nbformat": 4,
 "nbformat_minor": 2
}
